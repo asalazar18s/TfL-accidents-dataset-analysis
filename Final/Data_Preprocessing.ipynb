{
 "cells": [
  {
   "cell_type": "code",
   "execution_count": null,
   "metadata": {},
   "outputs": [],
   "source": [
    "import pandas as pd\n",
    "import requests\n",
    "from matplotlib import pyplot as plt\n",
    "\n",
    "# Effettua la richiesta GET all'API TfL\n",
    "url = \"https://api.tfl.gov.uk/AccidentStats/2019\"  # Cambia l'anno a seconda dei dati che vuoi\n",
    "response = requests.get(url)\n",
    "\n",
    "# Carica la risposta in formato JSON\n",
    "data = response.json()\n",
    "\n",
    "# Converte il JSON in un DataFrame di pandas\n",
    "df = pd.json_normalize(data)\n",
    "df_init = df.copy()\n",
    "\n",
    "# Salva il DataFrame in formato CSV\n",
    "df.to_csv('dataframes/incidenti_tfl_2019.csv', index=False)"
   ]
  },
  {
   "cell_type": "code",
   "execution_count": 39,
   "metadata": {},
   "outputs": [
    {
     "data": {
      "text/html": [
       "<div>\n",
       "<style scoped>\n",
       "    .dataframe tbody tr th:only-of-type {\n",
       "        vertical-align: middle;\n",
       "    }\n",
       "\n",
       "    .dataframe tbody tr th {\n",
       "        vertical-align: top;\n",
       "    }\n",
       "\n",
       "    .dataframe thead th {\n",
       "        text-align: right;\n",
       "    }\n",
       "</style>\n",
       "<table border=\"1\" class=\"dataframe\">\n",
       "  <thead>\n",
       "    <tr style=\"text-align: right;\">\n",
       "      <th></th>\n",
       "      <th>$type</th>\n",
       "      <th>id</th>\n",
       "      <th>lat</th>\n",
       "      <th>lon</th>\n",
       "      <th>location</th>\n",
       "      <th>date</th>\n",
       "      <th>severity</th>\n",
       "      <th>borough</th>\n",
       "      <th>casualties</th>\n",
       "      <th>vehicles</th>\n",
       "    </tr>\n",
       "  </thead>\n",
       "  <tbody>\n",
       "    <tr>\n",
       "      <th>0</th>\n",
       "      <td>Tfl.Api.Presentation.Entities.AccidentStats.Ac...</td>\n",
       "      <td>345906</td>\n",
       "      <td>51.511963</td>\n",
       "      <td>-0.028211</td>\n",
       "      <td>On Commercial Road Near The Junction With Burd...</td>\n",
       "      <td>2019-01-03T01:20:00Z</td>\n",
       "      <td>Slight</td>\n",
       "      <td>Tower Hamlets</td>\n",
       "      <td>[{'$type': 'Tfl.Api.Presentation.Entities.Acci...</td>\n",
       "      <td>[{'$type': 'Tfl.Api.Presentation.Entities.Acci...</td>\n",
       "    </tr>\n",
       "    <tr>\n",
       "      <th>1</th>\n",
       "      <td>Tfl.Api.Presentation.Entities.AccidentStats.Ac...</td>\n",
       "      <td>345907</td>\n",
       "      <td>51.371636</td>\n",
       "      <td>-0.117621</td>\n",
       "      <td>On Purley Way 20 metres north of The Junction ...</td>\n",
       "      <td>2019-01-02T22:45:00Z</td>\n",
       "      <td>Slight</td>\n",
       "      <td>Croydon</td>\n",
       "      <td>[{'$type': 'Tfl.Api.Presentation.Entities.Acci...</td>\n",
       "      <td>[{'$type': 'Tfl.Api.Presentation.Entities.Acci...</td>\n",
       "    </tr>\n",
       "    <tr>\n",
       "      <th>2</th>\n",
       "      <td>Tfl.Api.Presentation.Entities.AccidentStats.Ac...</td>\n",
       "      <td>345908</td>\n",
       "      <td>51.514951</td>\n",
       "      <td>-0.072747</td>\n",
       "      <td>On Whitechapel High Street Near The Junction W...</td>\n",
       "      <td>2019-01-02T18:45:00Z</td>\n",
       "      <td>Slight</td>\n",
       "      <td>Tower Hamlets</td>\n",
       "      <td>[{'$type': 'Tfl.Api.Presentation.Entities.Acci...</td>\n",
       "      <td>[{'$type': 'Tfl.Api.Presentation.Entities.Acci...</td>\n",
       "    </tr>\n",
       "    <tr>\n",
       "      <th>3</th>\n",
       "      <td>Tfl.Api.Presentation.Entities.AccidentStats.Ac...</td>\n",
       "      <td>345909</td>\n",
       "      <td>51.519173</td>\n",
       "      <td>-0.262356</td>\n",
       "      <td>On western Avenue 10 metres south of The Junct...</td>\n",
       "      <td>2019-01-03T08:41:00Z</td>\n",
       "      <td>Slight</td>\n",
       "      <td>Ealing</td>\n",
       "      <td>[{'$type': 'Tfl.Api.Presentation.Entities.Acci...</td>\n",
       "      <td>[{'$type': 'Tfl.Api.Presentation.Entities.Acci...</td>\n",
       "    </tr>\n",
       "    <tr>\n",
       "      <th>4</th>\n",
       "      <td>Tfl.Api.Presentation.Entities.AccidentStats.Ac...</td>\n",
       "      <td>345910</td>\n",
       "      <td>51.565743</td>\n",
       "      <td>-0.136308</td>\n",
       "      <td>On Macdonald Road 30 metres south of The Junct...</td>\n",
       "      <td>2019-01-03T08:37:00Z</td>\n",
       "      <td>Slight</td>\n",
       "      <td>Islington</td>\n",
       "      <td>[{'$type': 'Tfl.Api.Presentation.Entities.Acci...</td>\n",
       "      <td>[{'$type': 'Tfl.Api.Presentation.Entities.Acci...</td>\n",
       "    </tr>\n",
       "  </tbody>\n",
       "</table>\n",
       "</div>"
      ],
      "text/plain": [
       "                                               $type      id        lat  \\\n",
       "0  Tfl.Api.Presentation.Entities.AccidentStats.Ac...  345906  51.511963   \n",
       "1  Tfl.Api.Presentation.Entities.AccidentStats.Ac...  345907  51.371636   \n",
       "2  Tfl.Api.Presentation.Entities.AccidentStats.Ac...  345908  51.514951   \n",
       "3  Tfl.Api.Presentation.Entities.AccidentStats.Ac...  345909  51.519173   \n",
       "4  Tfl.Api.Presentation.Entities.AccidentStats.Ac...  345910  51.565743   \n",
       "\n",
       "        lon                                           location  \\\n",
       "0 -0.028211  On Commercial Road Near The Junction With Burd...   \n",
       "1 -0.117621  On Purley Way 20 metres north of The Junction ...   \n",
       "2 -0.072747  On Whitechapel High Street Near The Junction W...   \n",
       "3 -0.262356  On western Avenue 10 metres south of The Junct...   \n",
       "4 -0.136308  On Macdonald Road 30 metres south of The Junct...   \n",
       "\n",
       "                   date severity        borough  \\\n",
       "0  2019-01-03T01:20:00Z   Slight  Tower Hamlets   \n",
       "1  2019-01-02T22:45:00Z   Slight        Croydon   \n",
       "2  2019-01-02T18:45:00Z   Slight  Tower Hamlets   \n",
       "3  2019-01-03T08:41:00Z   Slight         Ealing   \n",
       "4  2019-01-03T08:37:00Z   Slight      Islington   \n",
       "\n",
       "                                          casualties  \\\n",
       "0  [{'$type': 'Tfl.Api.Presentation.Entities.Acci...   \n",
       "1  [{'$type': 'Tfl.Api.Presentation.Entities.Acci...   \n",
       "2  [{'$type': 'Tfl.Api.Presentation.Entities.Acci...   \n",
       "3  [{'$type': 'Tfl.Api.Presentation.Entities.Acci...   \n",
       "4  [{'$type': 'Tfl.Api.Presentation.Entities.Acci...   \n",
       "\n",
       "                                            vehicles  \n",
       "0  [{'$type': 'Tfl.Api.Presentation.Entities.Acci...  \n",
       "1  [{'$type': 'Tfl.Api.Presentation.Entities.Acci...  \n",
       "2  [{'$type': 'Tfl.Api.Presentation.Entities.Acci...  \n",
       "3  [{'$type': 'Tfl.Api.Presentation.Entities.Acci...  \n",
       "4  [{'$type': 'Tfl.Api.Presentation.Entities.Acci...  "
      ]
     },
     "execution_count": 39,
     "metadata": {},
     "output_type": "execute_result"
    }
   ],
   "source": [
    "df.head()"
   ]
  },
  {
   "cell_type": "code",
   "execution_count": 40,
   "metadata": {},
   "outputs": [
    {
     "data": {
      "text/html": [
       "<div>\n",
       "<style scoped>\n",
       "    .dataframe tbody tr th:only-of-type {\n",
       "        vertical-align: middle;\n",
       "    }\n",
       "\n",
       "    .dataframe tbody tr th {\n",
       "        vertical-align: top;\n",
       "    }\n",
       "\n",
       "    .dataframe thead th {\n",
       "        text-align: right;\n",
       "    }\n",
       "</style>\n",
       "<table border=\"1\" class=\"dataframe\">\n",
       "  <thead>\n",
       "    <tr style=\"text-align: right;\">\n",
       "      <th></th>\n",
       "      <th>id</th>\n",
       "      <th>lat</th>\n",
       "      <th>lon</th>\n",
       "    </tr>\n",
       "  </thead>\n",
       "  <tbody>\n",
       "    <tr>\n",
       "      <th>count</th>\n",
       "      <td>50626.000000</td>\n",
       "      <td>50626.000000</td>\n",
       "      <td>50626.000000</td>\n",
       "    </tr>\n",
       "    <tr>\n",
       "      <th>mean</th>\n",
       "      <td>544054.000000</td>\n",
       "      <td>51.509198</td>\n",
       "      <td>-0.118897</td>\n",
       "    </tr>\n",
       "    <tr>\n",
       "      <th>std</th>\n",
       "      <td>185715.647807</td>\n",
       "      <td>0.067383</td>\n",
       "      <td>0.141133</td>\n",
       "    </tr>\n",
       "    <tr>\n",
       "      <th>min</th>\n",
       "      <td>345828.000000</td>\n",
       "      <td>51.295233</td>\n",
       "      <td>-0.509795</td>\n",
       "    </tr>\n",
       "    <tr>\n",
       "      <th>25%</th>\n",
       "      <td>358484.250000</td>\n",
       "      <td>51.468225</td>\n",
       "      <td>-0.200805</td>\n",
       "    </tr>\n",
       "    <tr>\n",
       "      <th>50%</th>\n",
       "      <td>544054.000000</td>\n",
       "      <td>51.514006</td>\n",
       "      <td>-0.114336</td>\n",
       "    </tr>\n",
       "    <tr>\n",
       "      <th>75%</th>\n",
       "      <td>729623.750000</td>\n",
       "      <td>51.553555</td>\n",
       "      <td>-0.035484</td>\n",
       "    </tr>\n",
       "    <tr>\n",
       "      <th>max</th>\n",
       "      <td>742280.000000</td>\n",
       "      <td>51.691126</td>\n",
       "      <td>0.307909</td>\n",
       "    </tr>\n",
       "  </tbody>\n",
       "</table>\n",
       "</div>"
      ],
      "text/plain": [
       "                  id           lat           lon\n",
       "count   50626.000000  50626.000000  50626.000000\n",
       "mean   544054.000000     51.509198     -0.118897\n",
       "std    185715.647807      0.067383      0.141133\n",
       "min    345828.000000     51.295233     -0.509795\n",
       "25%    358484.250000     51.468225     -0.200805\n",
       "50%    544054.000000     51.514006     -0.114336\n",
       "75%    729623.750000     51.553555     -0.035484\n",
       "max    742280.000000     51.691126      0.307909"
      ]
     },
     "execution_count": 40,
     "metadata": {},
     "output_type": "execute_result"
    }
   ],
   "source": [
    "df.describe()"
   ]
  },
  {
   "cell_type": "markdown",
   "metadata": {},
   "source": [
    "Encode Severity to 0-1-2"
   ]
  },
  {
   "cell_type": "code",
   "execution_count": 41,
   "metadata": {},
   "outputs": [],
   "source": [
    "df.drop(columns=['$type'], inplace=True)\n",
    "\n",
    "# converting 'severity' in cardinal indicator\n",
    "df['severity'] = df['severity'].map({'Slight': 0, 'Serious': 1, 'Fatal': 2})"
   ]
  },
  {
   "cell_type": "markdown",
   "metadata": {},
   "source": [
    "Encode Borough values to one hot encoding"
   ]
  },
  {
   "cell_type": "code",
   "execution_count": 42,
   "metadata": {},
   "outputs": [],
   "source": [
    "borough_encoded = pd.get_dummies(df['borough'], prefix='borough', dtype=int)\n",
    "df = pd.concat([df, borough_encoded], axis=1)\n",
    "df.drop('borough', axis=1, inplace=True)"
   ]
  },
  {
   "cell_type": "markdown",
   "metadata": {},
   "source": [
    "Drop Location Column (Unused)"
   ]
  },
  {
   "cell_type": "code",
   "execution_count": 43,
   "metadata": {},
   "outputs": [],
   "source": [
    "df.drop('location', axis=1, inplace=True)\n",
    "df['date'] = pd.to_datetime(df['date'])"
   ]
  },
  {
   "cell_type": "code",
   "execution_count": 44,
   "metadata": {},
   "outputs": [
    {
     "data": {
      "text/plain": [
       "<Axes: ylabel='Frequency'>"
      ]
     },
     "execution_count": 44,
     "metadata": {},
     "output_type": "execute_result"
    },
    {
     "data": {
      "image/png": "[encoded data removed]",
      "text/plain": [
       "<Figure size 640x480 with 1 Axes>"
      ]
     },
     "metadata": {},
     "output_type": "display_data"
    }
   ],
   "source": [
    "df['date'].dt.hour.plot.hist(bins=24, color='skyblue', edgecolor='black', alpha=0.7)"
   ]
  },
  {
   "cell_type": "markdown",
   "metadata": {},
   "source": [
    "Encode Vehicles by Category"
   ]
  },
  {
   "cell_type": "code",
   "execution_count": 45,
   "metadata": {},
   "outputs": [
    {
     "data": {
      "text/html": [
       "<div>\n",
       "<style scoped>\n",
       "    .dataframe tbody tr th:only-of-type {\n",
       "        vertical-align: middle;\n",
       "    }\n",
       "\n",
       "    .dataframe tbody tr th {\n",
       "        vertical-align: top;\n",
       "    }\n",
       "\n",
       "    .dataframe thead th {\n",
       "        text-align: right;\n",
       "    }\n",
       "</style>\n",
       "<table border=\"1\" class=\"dataframe\">\n",
       "  <thead>\n",
       "    <tr style=\"text-align: right;\">\n",
       "      <th></th>\n",
       "      <th>id</th>\n",
       "      <th>type</th>\n",
       "    </tr>\n",
       "  </thead>\n",
       "  <tbody>\n",
       "    <tr>\n",
       "      <th>0</th>\n",
       "      <td>345906</td>\n",
       "      <td>Car</td>\n",
       "    </tr>\n",
       "    <tr>\n",
       "      <th>1</th>\n",
       "      <td>345906</td>\n",
       "      <td>Car</td>\n",
       "    </tr>\n",
       "    <tr>\n",
       "      <th>2</th>\n",
       "      <td>345907</td>\n",
       "      <td>Car</td>\n",
       "    </tr>\n",
       "    <tr>\n",
       "      <th>3</th>\n",
       "      <td>345907</td>\n",
       "      <td>Car</td>\n",
       "    </tr>\n",
       "    <tr>\n",
       "      <th>4</th>\n",
       "      <td>345908</td>\n",
       "      <td>PedalCycle</td>\n",
       "    </tr>\n",
       "  </tbody>\n",
       "</table>\n",
       "</div>"
      ],
      "text/plain": [
       "       id        type\n",
       "0  345906         Car\n",
       "1  345906         Car\n",
       "2  345907         Car\n",
       "3  345907         Car\n",
       "4  345908  PedalCycle"
      ]
     },
     "execution_count": 45,
     "metadata": {},
     "output_type": "execute_result"
    }
   ],
   "source": [
    "df_vehicles = df_init.copy()\n",
    "\n",
    "if df_vehicles['vehicles'].isnull().any():\n",
    "    print(\"Warning: Missing or invalid data detected in 'vehicles'. Dropping null values.\")\n",
    "    df_vehicles = df_vehicles.dropna(subset=['vehicles'])\n",
    "\n",
    "df_vehicles = df_vehicles.explode('vehicles')\n",
    "\n",
    "df_vehicles.drop(columns=['lat', 'lon', 'date', 'location', 'severity', 'borough', 'casualties'], inplace=True)\n",
    "\n",
    "df_vehicles_normalized = pd.json_normalize(df_vehicles['vehicles'].values)\n",
    "\n",
    "if '$type' in df_vehicles_normalized.columns:\n",
    "    df_vehicles_normalized.drop(columns=['$type'], inplace=True)\n",
    "\n",
    "df_vehicles = df_vehicles.reset_index(drop=True).join(df_vehicles_normalized)\n",
    "\n",
    "df_vehicles.drop(columns=['vehicles', '$type'], inplace=True)\n",
    "\n",
    "df_vehicles.head()\n"
   ]
  },
  {
   "cell_type": "code",
   "execution_count": 46,
   "metadata": {},
   "outputs": [],
   "source": [
    "categories = {\n",
    "    \"Motorcycle\": [\n",
    "        \"Motorcycle_0_50cc\", \"Motorcycle_50_125cc\", \n",
    "        \"Motorcycle_125_500cc\", \"Motorcycle_500cc_Plus\"\n",
    "    ],\n",
    "    \"Car\": [\n",
    "        \"Car\", \"Taxi\", \"Minibus\", \"LightGoodsVehicle\"\n",
    "    ],\n",
    "    \"Heavy_Vehicles\": [\n",
    "        \"BusOrCoach\", \"HeavyGoodsVehicle\", \"MediumGoodsVehicle\", \n",
    "        \"AgriculturalVehicle\"\n",
    "    ],\n",
    "    \"Pedalcycle\": [\"PedalCycle\"],\n",
    "    \"Other\": [\"OtherMotorVehicle\", \"RiddenHorse\"]\n",
    "}\n",
    "\n",
    "# Map types to categories\n",
    "category_map = {v: k for k, types in categories.items() for v in types}\n",
    "df_vehicles['category'] = df_vehicles['type'].map(category_map)\n",
    "\n",
    "# Count the number of vehicles in each category for each id\n",
    "category_counts = df_vehicles.groupby(['id', 'category']).size().unstack(fill_value=0)\n",
    "# Ensure all main categories are represented as columns\n",
    "for category in categories.keys():\n",
    "    if category not in category_counts.columns:\n",
    "        category_counts[category] = 0\n",
    "\n",
    "# Reset the index to prepare for further analysis\n",
    "category_counts = category_counts.reset_index()\n",
    "# category_counts.keys()\n",
    "df_vehicles = category_counts\n",
    "df_vehicles.head()\n",
    "df_vehicles.to_csv('dataframes/vehicles_by_cat.csv', index=False)\n"
   ]
  },
  {
   "cell_type": "markdown",
   "metadata": {},
   "source": [
    "Encode Casalties by Category"
   ]
  },
  {
   "cell_type": "code",
   "execution_count": 47,
   "metadata": {},
   "outputs": [
    {
     "name": "stdout",
     "output_type": "stream",
     "text": [
      "Extracted ages: [27.0, 42.0, 24.0, 48.0, 18.0, 33.0, 18.0, 29.0, 49.0, 59.0]\n",
      "Lenght of ages:  57116\n"
     ]
    }
   ],
   "source": [
    "# Explode the casualties column\n",
    "df_exploded = df_init.explode('casualties')\n",
    "# Normalize the casualties field\n",
    "casualties_df = pd.json_normalize(df_exploded['casualties'])\n",
    "# Combine the normalized casualties back with the original data\n",
    "df_exploded = df_exploded.drop(columns=['casualties']).reset_index(drop=True)\n",
    "df_combined = pd.concat([df_exploded, casualties_df], axis=1)\n",
    "# Extract ages\n",
    "ages = casualties_df['age'].dropna().tolist()\n",
    "\n",
    "# Display results\n",
    "print(\"Extracted ages:\", ages[:10])  # Display the first 10 ages\n",
    "print(\"Lenght of ages: \", len(ages))"
   ]
  },
  {
   "cell_type": "code",
   "execution_count": 48,
   "metadata": {},
   "outputs": [
    {
     "data": {
      "image/png": "[encoded data removed]",
      "text/plain": [
       "<Figure size 640x480 with 1 Axes>"
      ]
     },
     "metadata": {},
     "output_type": "display_data"
    }
   ],
   "source": [
    "import seaborn as sns\n",
    "sns.histplot(ages, bins=20, kde=True)\n",
    "plt.xlabel(\"Age\")\n",
    "plt.ylabel(\"Frequency\")\n",
    "plt.title(\"Distribution of Ages\")\n",
    "plt.show()"
   ]
  },
  {
   "cell_type": "code",
   "execution_count": 49,
   "metadata": {},
   "outputs": [
    {
     "name": "stdout",
     "output_type": "stream",
     "text": [
      "{'0-17': 4730, '18-25': 10214, '26-40': 22162, '41-65': 16916, '65+': 3094}\n"
     ]
    }
   ],
   "source": [
    "age_ranges = {\n",
    "    \"0-17\": 0,\n",
    "    \"18-25\": 0,\n",
    "    \"26-40\": 0,\n",
    "    \"41-65\": 0,\n",
    "    \"65+\": 0\n",
    "}\n",
    "for age in ages:\n",
    "    if age <= 17:\n",
    "        age_ranges[\"0-17\"] += 1\n",
    "    elif age <= 25:\n",
    "        age_ranges[\"18-25\"] += 1\n",
    "    elif age <= 40:\n",
    "        age_ranges[\"26-40\"] += 1\n",
    "    elif age <= 65:\n",
    "        age_ranges[\"41-65\"] += 1\n",
    "    else:\n",
    "        age_ranges[\"65+\"] += 1\n",
    "\n",
    "print(age_ranges)"
   ]
  },
  {
   "cell_type": "code",
   "execution_count": 50,
   "metadata": {},
   "outputs": [
    {
     "name": "stdout",
     "output_type": "stream",
     "text": [
      "Bin Edges: [ 0. 23. 30. 38. 50. 98.]\n",
      "Bins: ['24-30', '39-50', '24-30', '39-50', '0-23', ..., '50+', '0-23', '24-30', '24-30', '39-50']\n",
      "Length: 57116\n",
      "Categories (5, object): ['0-23' < '24-30' < '31-38' < '39-50' < '50+']\n",
      "0-23     11764\n",
      "24-30    11744\n",
      "31-38    11230\n",
      "39-50    11648\n",
      "50+      10730\n",
      "Name: count, dtype: int64\n"
     ]
    }
   ],
   "source": [
    "bins, bin_edges = pd.qcut(ages, q=5, labels=[\"0-23\", \"24-30\", \"31-38\", \"39-50\", \"50+\"], retbins=True)\n",
    "print(\"Bin Edges:\", bin_edges)\n",
    "print(\"Bins:\", bins)\n",
    "print(bins.value_counts())"
   ]
  },
  {
   "cell_type": "code",
   "execution_count": 51,
   "metadata": {},
   "outputs": [
    {
     "data": {
      "image/png": "[encoded data removed]",
      "text/plain": [
       "<Figure size 640x480 with 1 Axes>"
      ]
     },
     "metadata": {},
     "output_type": "display_data"
    }
   ],
   "source": [
    "age_ranges = [\"0-23\", \"24-30\", \"31-38\", \"39-50\", \"50+\"]\n",
    "counts = [11764, 11744, 11230, 11648, 10730]\n",
    "\n",
    "plt.bar(age_ranges, counts)\n",
    "plt.xlabel(\"Age Ranges\")\n",
    "plt.ylabel(\"Number of Casualties\")\n",
    "plt.title(\"Casualties by Age Range\")\n",
    "plt.show()"
   ]
  },
  {
   "cell_type": "code",
   "execution_count": 52,
   "metadata": {},
   "outputs": [
    {
     "name": "stderr",
     "output_type": "stream",
     "text": [
      "C:\\Users\\AaronSalazar\\AppData\\Local\\Temp\\ipykernel_21648\\190801574.py:22: DeprecationWarning: DataFrameGroupBy.apply operated on the grouping columns. This behavior is deprecated, and in a future version of pandas the grouping columns will be excluded from the operation. Either pass `include_groups=False` to exclude the groupings or explicitly select the grouping columns after groupby to silence this warning.\n",
      "  age_range_counts = df_combined.groupby('id').apply(count_age_ranges).reset_index()\n"
     ]
    }
   ],
   "source": [
    "# Assume df is your original DataFrame\n",
    "# Explode the casualties column to work with individual casualties\n",
    "df_exploded = df_init.explode('casualties')\n",
    "\n",
    "# Normalize the casualties field to extract age\n",
    "casualties_df = pd.json_normalize(df_exploded['casualties'])\n",
    "df_exploded = df_exploded.reset_index(drop=True)\n",
    "df_combined = pd.concat([df_exploded, casualties_df[['age']]], axis=1)\n",
    "\n",
    "# Define a function to count casualties in each range\n",
    "def count_age_ranges(group):\n",
    "    age_counts = {\n",
    "        \"casualty_age_0-23\": sum(group['age'] <= 23),\n",
    "        \"casualty_age_24-30\": sum((group['age'] > 23) & (group['age'] <= 30)),\n",
    "        \"casualty_age_31-38\": sum((group['age'] > 30) & (group['age'] <= 38)),\n",
    "        \"casualty_age_39-50\": sum((group['age'] > 38) & (group['age'] <= 50)),\n",
    "        \"casualty_age_50+\": sum(group['age'] > 50)\n",
    "    }\n",
    "    return pd.Series(age_counts)\n",
    "\n",
    "# Group by accident ID and apply the function\n",
    "age_range_counts = df_combined.groupby('id').apply(count_age_ranges).reset_index()\n",
    "age_range_counts.head()\n",
    "age_range_counts.to_csv('dataframes/age_range_counts_to_merge.csv', index=False)\n",
    "# Merge the counts back to the original DataFrame\n",
    "# df_with_age_ranges = df.merge(age_range_counts, on='id', how='left')\n"
   ]
  },
  {
   "cell_type": "code",
   "execution_count": 53,
   "metadata": {},
   "outputs": [
    {
     "data": {
      "text/html": [
       "<div>\n",
       "<style scoped>\n",
       "    .dataframe tbody tr th:only-of-type {\n",
       "        vertical-align: middle;\n",
       "    }\n",
       "\n",
       "    .dataframe tbody tr th {\n",
       "        vertical-align: top;\n",
       "    }\n",
       "\n",
       "    .dataframe thead th {\n",
       "        text-align: right;\n",
       "    }\n",
       "</style>\n",
       "<table border=\"1\" class=\"dataframe\">\n",
       "  <thead>\n",
       "    <tr style=\"text-align: right;\">\n",
       "      <th></th>\n",
       "      <th>id</th>\n",
       "      <th>lat</th>\n",
       "      <th>lon</th>\n",
       "      <th>date</th>\n",
       "      <th>severity</th>\n",
       "      <th>borough_Barking and Dagenham</th>\n",
       "      <th>borough_Barnet</th>\n",
       "      <th>borough_Bexley</th>\n",
       "      <th>borough_Brent</th>\n",
       "      <th>borough_Bromley</th>\n",
       "      <th>...</th>\n",
       "      <th>borough_Southwark</th>\n",
       "      <th>borough_Sutton</th>\n",
       "      <th>borough_Tower Hamlets</th>\n",
       "      <th>borough_Waltham Forest</th>\n",
       "      <th>borough_Wandsworth</th>\n",
       "      <th>casualty_age_0-23</th>\n",
       "      <th>casualty_age_24-30</th>\n",
       "      <th>casualty_age_31-38</th>\n",
       "      <th>casualty_age_39-50</th>\n",
       "      <th>casualty_age_50+</th>\n",
       "    </tr>\n",
       "  </thead>\n",
       "  <tbody>\n",
       "    <tr>\n",
       "      <th>0</th>\n",
       "      <td>345906</td>\n",
       "      <td>51.511963</td>\n",
       "      <td>-0.028211</td>\n",
       "      <td>2019-01-03 01:20:00+00:00</td>\n",
       "      <td>0</td>\n",
       "      <td>0</td>\n",
       "      <td>0</td>\n",
       "      <td>0</td>\n",
       "      <td>0</td>\n",
       "      <td>0</td>\n",
       "      <td>...</td>\n",
       "      <td>0</td>\n",
       "      <td>0</td>\n",
       "      <td>1</td>\n",
       "      <td>0</td>\n",
       "      <td>0</td>\n",
       "      <td>0</td>\n",
       "      <td>1</td>\n",
       "      <td>0</td>\n",
       "      <td>0</td>\n",
       "      <td>0</td>\n",
       "    </tr>\n",
       "    <tr>\n",
       "      <th>1</th>\n",
       "      <td>345907</td>\n",
       "      <td>51.371636</td>\n",
       "      <td>-0.117621</td>\n",
       "      <td>2019-01-02 22:45:00+00:00</td>\n",
       "      <td>0</td>\n",
       "      <td>0</td>\n",
       "      <td>0</td>\n",
       "      <td>0</td>\n",
       "      <td>0</td>\n",
       "      <td>0</td>\n",
       "      <td>...</td>\n",
       "      <td>0</td>\n",
       "      <td>0</td>\n",
       "      <td>0</td>\n",
       "      <td>0</td>\n",
       "      <td>0</td>\n",
       "      <td>0</td>\n",
       "      <td>0</td>\n",
       "      <td>0</td>\n",
       "      <td>1</td>\n",
       "      <td>0</td>\n",
       "    </tr>\n",
       "    <tr>\n",
       "      <th>2</th>\n",
       "      <td>345908</td>\n",
       "      <td>51.514951</td>\n",
       "      <td>-0.072747</td>\n",
       "      <td>2019-01-02 18:45:00+00:00</td>\n",
       "      <td>0</td>\n",
       "      <td>0</td>\n",
       "      <td>0</td>\n",
       "      <td>0</td>\n",
       "      <td>0</td>\n",
       "      <td>0</td>\n",
       "      <td>...</td>\n",
       "      <td>0</td>\n",
       "      <td>0</td>\n",
       "      <td>1</td>\n",
       "      <td>0</td>\n",
       "      <td>0</td>\n",
       "      <td>0</td>\n",
       "      <td>1</td>\n",
       "      <td>0</td>\n",
       "      <td>0</td>\n",
       "      <td>0</td>\n",
       "    </tr>\n",
       "    <tr>\n",
       "      <th>3</th>\n",
       "      <td>345909</td>\n",
       "      <td>51.519173</td>\n",
       "      <td>-0.262356</td>\n",
       "      <td>2019-01-03 08:41:00+00:00</td>\n",
       "      <td>0</td>\n",
       "      <td>0</td>\n",
       "      <td>0</td>\n",
       "      <td>0</td>\n",
       "      <td>0</td>\n",
       "      <td>0</td>\n",
       "      <td>...</td>\n",
       "      <td>0</td>\n",
       "      <td>0</td>\n",
       "      <td>0</td>\n",
       "      <td>0</td>\n",
       "      <td>0</td>\n",
       "      <td>0</td>\n",
       "      <td>0</td>\n",
       "      <td>0</td>\n",
       "      <td>1</td>\n",
       "      <td>0</td>\n",
       "    </tr>\n",
       "    <tr>\n",
       "      <th>4</th>\n",
       "      <td>345910</td>\n",
       "      <td>51.565743</td>\n",
       "      <td>-0.136308</td>\n",
       "      <td>2019-01-03 08:37:00+00:00</td>\n",
       "      <td>0</td>\n",
       "      <td>0</td>\n",
       "      <td>0</td>\n",
       "      <td>0</td>\n",
       "      <td>0</td>\n",
       "      <td>0</td>\n",
       "      <td>...</td>\n",
       "      <td>0</td>\n",
       "      <td>0</td>\n",
       "      <td>0</td>\n",
       "      <td>0</td>\n",
       "      <td>0</td>\n",
       "      <td>1</td>\n",
       "      <td>0</td>\n",
       "      <td>0</td>\n",
       "      <td>0</td>\n",
       "      <td>0</td>\n",
       "    </tr>\n",
       "  </tbody>\n",
       "</table>\n",
       "<p>5 rows × 43 columns</p>\n",
       "</div>"
      ],
      "text/plain": [
       "       id        lat       lon                      date  severity  \\\n",
       "0  345906  51.511963 -0.028211 2019-01-03 01:20:00+00:00         0   \n",
       "1  345907  51.371636 -0.117621 2019-01-02 22:45:00+00:00         0   \n",
       "2  345908  51.514951 -0.072747 2019-01-02 18:45:00+00:00         0   \n",
       "3  345909  51.519173 -0.262356 2019-01-03 08:41:00+00:00         0   \n",
       "4  345910  51.565743 -0.136308 2019-01-03 08:37:00+00:00         0   \n",
       "\n",
       "   borough_Barking and Dagenham  borough_Barnet  borough_Bexley  \\\n",
       "0                             0               0               0   \n",
       "1                             0               0               0   \n",
       "2                             0               0               0   \n",
       "3                             0               0               0   \n",
       "4                             0               0               0   \n",
       "\n",
       "   borough_Brent  borough_Bromley  ...  borough_Southwark  borough_Sutton  \\\n",
       "0              0                0  ...                  0               0   \n",
       "1              0                0  ...                  0               0   \n",
       "2              0                0  ...                  0               0   \n",
       "3              0                0  ...                  0               0   \n",
       "4              0                0  ...                  0               0   \n",
       "\n",
       "   borough_Tower Hamlets  borough_Waltham Forest  borough_Wandsworth  \\\n",
       "0                      1                       0                   0   \n",
       "1                      0                       0                   0   \n",
       "2                      1                       0                   0   \n",
       "3                      0                       0                   0   \n",
       "4                      0                       0                   0   \n",
       "\n",
       "   casualty_age_0-23  casualty_age_24-30  casualty_age_31-38  \\\n",
       "0                  0                   1                   0   \n",
       "1                  0                   0                   0   \n",
       "2                  0                   1                   0   \n",
       "3                  0                   0                   0   \n",
       "4                  1                   0                   0   \n",
       "\n",
       "   casualty_age_39-50  casualty_age_50+  \n",
       "0                   0                 0  \n",
       "1                   1                 0  \n",
       "2                   0                 0  \n",
       "3                   1                 0  \n",
       "4                   0                 0  \n",
       "\n",
       "[5 rows x 43 columns]"
      ]
     },
     "execution_count": 53,
     "metadata": {},
     "output_type": "execute_result"
    }
   ],
   "source": [
    "df.drop([\"casualties\", \"vehicles\"],axis=1, inplace=True)\n",
    "df_merged = df.merge(df_vehicles, on='id', how='left')\n",
    "df_merged = df.merge(age_range_counts, on='id', how='left')\n",
    "df_merged.head()"
   ]
  },
  {
   "cell_type": "code",
   "execution_count": 54,
   "metadata": {},
   "outputs": [],
   "source": [
    "df_merged.to_csv('dataframes/final_df.csv', index=False)"
   ]
  }
 ],
 "metadata": {
  "kernelspec": {
   "display_name": ".venv",
   "language": "python",
   "name": "python3"
  },
  "language_info": {
   "codemirror_mode": {
    "name": "ipython",
    "version": 3
   },
   "file_extension": ".py",
   "mimetype": "text/x-python",
   "name": "python",
   "nbconvert_exporter": "python",
   "pygments_lexer": "ipython3",
   "version": "3.10.9"
  }
 },
 "nbformat": 4,
 "nbformat_minor": 2
}
